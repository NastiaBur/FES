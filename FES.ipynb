{
 "cells": [
  {
   "cell_type": "markdown",
   "metadata": {},
   "source": [
    "**Метод наименьших квадратов** - это математический метод, применяемый для решения различных задач, основанный на минимизации суммы квадратов отклонений некоторых функций от экспериментальных входных данных.\n",
    "Если говорить простыми словами: пусть у нас есть параметры $x, y$. Нам бы хотелось найти линейную функцию $f(x_i)$, которая будет \"максимально близко\" давать значения к   $y_i$. Во первых, точность (\"максимально близко\") будет измерятся как сумма квадратов отклонений: $\\sum_{i = 1}^n (f(x_i) - y_i)^2$. Именно её мы постараемся минимизировать.\n",
    "\n",
    "Ниже представлен пример с датасетом про квартиры. Построим линейную функцию, которая от значения площади квартиры будет предсказывать цену.\n"
   ]
  },
  {
   "cell_type": "code",
   "execution_count": 2,
   "metadata": {},
   "outputs": [],
   "source": [
    "#Для начала загрузим нужные библиотеки\n",
    "import pandas as pd\n",
    "import numpy as np"
   ]
  },
  {
   "cell_type": "markdown",
   "metadata": {},
   "source": [
    "Выгружаем данные. Этот датасет с kaggle , в котором хранится информация по квартирам: цена, площать, кол-во комнат и т.п. Попробуем обучить модель и оценить, с какой точность она будет оценивать квартиры на основе некоторых параметров."
   ]
  },
  {
   "cell_type": "code",
   "execution_count": 3,
   "metadata": {},
   "outputs": [
    {
     "data": {
      "text/html": [
       "<div>\n",
       "<style scoped>\n",
       "    .dataframe tbody tr th:only-of-type {\n",
       "        vertical-align: middle;\n",
       "    }\n",
       "\n",
       "    .dataframe tbody tr th {\n",
       "        vertical-align: top;\n",
       "    }\n",
       "\n",
       "    .dataframe thead th {\n",
       "        text-align: right;\n",
       "    }\n",
       "</style>\n",
       "<table border=\"1\" class=\"dataframe\">\n",
       "  <thead>\n",
       "    <tr style=\"text-align: right;\">\n",
       "      <th></th>\n",
       "      <th>price</th>\n",
       "      <th>area</th>\n",
       "      <th>bedrooms</th>\n",
       "      <th>bathrooms</th>\n",
       "      <th>stories</th>\n",
       "      <th>mainroad</th>\n",
       "      <th>guestroom</th>\n",
       "      <th>basement</th>\n",
       "      <th>hotwaterheating</th>\n",
       "      <th>airconditioning</th>\n",
       "      <th>parking</th>\n",
       "      <th>prefarea</th>\n",
       "      <th>furnishingstatus</th>\n",
       "    </tr>\n",
       "  </thead>\n",
       "  <tbody>\n",
       "    <tr>\n",
       "      <th>0</th>\n",
       "      <td>13300000</td>\n",
       "      <td>7420</td>\n",
       "      <td>4</td>\n",
       "      <td>2</td>\n",
       "      <td>3</td>\n",
       "      <td>yes</td>\n",
       "      <td>no</td>\n",
       "      <td>no</td>\n",
       "      <td>no</td>\n",
       "      <td>yes</td>\n",
       "      <td>2</td>\n",
       "      <td>yes</td>\n",
       "      <td>furnished</td>\n",
       "    </tr>\n",
       "    <tr>\n",
       "      <th>1</th>\n",
       "      <td>12250000</td>\n",
       "      <td>8960</td>\n",
       "      <td>4</td>\n",
       "      <td>4</td>\n",
       "      <td>4</td>\n",
       "      <td>yes</td>\n",
       "      <td>no</td>\n",
       "      <td>no</td>\n",
       "      <td>no</td>\n",
       "      <td>yes</td>\n",
       "      <td>3</td>\n",
       "      <td>no</td>\n",
       "      <td>furnished</td>\n",
       "    </tr>\n",
       "    <tr>\n",
       "      <th>2</th>\n",
       "      <td>12250000</td>\n",
       "      <td>9960</td>\n",
       "      <td>3</td>\n",
       "      <td>2</td>\n",
       "      <td>2</td>\n",
       "      <td>yes</td>\n",
       "      <td>no</td>\n",
       "      <td>yes</td>\n",
       "      <td>no</td>\n",
       "      <td>no</td>\n",
       "      <td>2</td>\n",
       "      <td>yes</td>\n",
       "      <td>semi-furnished</td>\n",
       "    </tr>\n",
       "    <tr>\n",
       "      <th>3</th>\n",
       "      <td>12215000</td>\n",
       "      <td>7500</td>\n",
       "      <td>4</td>\n",
       "      <td>2</td>\n",
       "      <td>2</td>\n",
       "      <td>yes</td>\n",
       "      <td>no</td>\n",
       "      <td>yes</td>\n",
       "      <td>no</td>\n",
       "      <td>yes</td>\n",
       "      <td>3</td>\n",
       "      <td>yes</td>\n",
       "      <td>furnished</td>\n",
       "    </tr>\n",
       "    <tr>\n",
       "      <th>4</th>\n",
       "      <td>11410000</td>\n",
       "      <td>7420</td>\n",
       "      <td>4</td>\n",
       "      <td>1</td>\n",
       "      <td>2</td>\n",
       "      <td>yes</td>\n",
       "      <td>yes</td>\n",
       "      <td>yes</td>\n",
       "      <td>no</td>\n",
       "      <td>yes</td>\n",
       "      <td>2</td>\n",
       "      <td>no</td>\n",
       "      <td>furnished</td>\n",
       "    </tr>\n",
       "  </tbody>\n",
       "</table>\n",
       "</div>"
      ],
      "text/plain": [
       "      price  area  bedrooms  bathrooms  stories mainroad guestroom basement  \\\n",
       "0  13300000  7420         4          2        3      yes        no       no   \n",
       "1  12250000  8960         4          4        4      yes        no       no   \n",
       "2  12250000  9960         3          2        2      yes        no      yes   \n",
       "3  12215000  7500         4          2        2      yes        no      yes   \n",
       "4  11410000  7420         4          1        2      yes       yes      yes   \n",
       "\n",
       "  hotwaterheating airconditioning  parking prefarea furnishingstatus  \n",
       "0              no             yes        2      yes        furnished  \n",
       "1              no             yes        3       no        furnished  \n",
       "2              no              no        2      yes   semi-furnished  \n",
       "3              no             yes        3      yes        furnished  \n",
       "4              no             yes        2       no        furnished  "
      ]
     },
     "execution_count": 3,
     "metadata": {},
     "output_type": "execute_result"
    }
   ],
   "source": [
    "data = pd.read_csv('Housing.csv')\n",
    "data.head()"
   ]
  },
  {
   "cell_type": "code",
   "execution_count": 17,
   "metadata": {},
   "outputs": [
    {
     "name": "stdout",
     "output_type": "stream",
     "text": [
      "f(x) = 461.9840518609294x + 2394815.325258006\n"
     ]
    }
   ],
   "source": [
    "from scipy.optimize import minimize\n",
    " \n",
    "#Зададим параметры: х - площадь, у - цена\n",
    "x = np.array(data['area'])\n",
    "y = np.array(data['price'])\n",
    " \n",
    "# Возьмём сумму квадратов отклонений, как функцию ошибки \n",
    "def error_fun(coefficients):\n",
    "    return np.sum((np.polyval(coefficients, x) - y) ** 2)\n",
    " \n",
    "# Находим коэффициенты аппроксимирующей функции\n",
    "result = minimize(error_fun, [0, 0])\n",
    " \n",
    "# Получаем значения аппроксимирующей функции\n",
    "approximation = np.polyval(result.x, x)\n",
    " \n",
    "\n",
    "#Выводим получившуюся функцию\n",
    "print(f'f(x) = {result.x[0]}x + {result.x[1]}')\n",
    "# Получим: f(x) = 461.9840518609294x + 2394815.325258006\n",
    "\n"
   ]
  },
  {
   "cell_type": "markdown",
   "metadata": {},
   "source": [
    "Итак, мы получили коэффиценты, но надо ещё посчитать ошибку: сумму квадратов отклонений"
   ]
  },
  {
   "cell_type": "code",
   "execution_count": 15,
   "metadata": {},
   "outputs": [
    {
     "name": "stdout",
     "output_type": "stream",
     "text": [
      "Ошибка: 1356460561589906.0\n"
     ]
    }
   ],
   "source": [
    "print('Ошибка:', error_fun(result.x))\n",
    "#Получим: 1356460561589906.0"
   ]
  },
  {
   "cell_type": "markdown",
   "metadata": {},
   "source": [
    "Но если кто-то не доверяет функции minimize, то можно все эти вычисления проделать самим. Для этого нам понадобиться 1 курс линейной алгебры и волшебная библиотека linalg :)\n",
    "\n",
    "Если коротко, то коэффиценты искомой линейной функции - это некое псевдорешение системы \n",
    "$$\n",
    "\\begin{cases}\n",
    "a_1 x_{11} + a_2 x_{12} + ... + a_n x_{1n} + a_{n + 1} = y_1 \\\\\n",
    "a_1 x_{21} + a_2 x_{22} + ... + a_n x_{2n} + a_{n + 1} = y_2 \\\\\n",
    "\\dots \\\\\n",
    "a_1 x_{n1} + a_2 x_{n2} + ... + a_n x_{nn} + a_{n + 1}= y_n\n",
    "\\end{cases}\n",
    "$$\n",
    "Или если всё записывать через матрицы, то $Xa = Y$, где $a$ - это столбец коэффицентов, который мы пытаемся найти, $X$ - матрицы из параметров со столбцом из 1, $y$ - стобец из результатов (правая сторона всех равенств). И существует несложная формула, с помощью которой можно найти $a$:\n",
    "$$\n",
    "a = (X^TX)^{-1}X^Ty\n",
    "$$\n",
    "\n",
    "Давайте посчитаем через неё, чтобы удостовериться, что функция $minimize$ не ошиблась"
   ]
  },
  {
   "cell_type": "code",
   "execution_count": 18,
   "metadata": {},
   "outputs": [
    {
     "name": "stdout",
     "output_type": "stream",
     "text": [
      "f(x) = 461.97489427278356 * x + 2387308.4823964285\n"
     ]
    }
   ],
   "source": [
    "# Добавим столбец из 1 и создадим матрицу Х\n",
    "X = np.concatenate(([np.array(data['area'])], [np.ones(len(data['area']))]), axis=0).T \n",
    "print\n",
    "\n",
    "# Воспользуемся формулой\n",
    "k, b = np.linalg.inv((X.T.dot(X))).dot(X.T).dot(np.array(data['price']))\n",
    "\n",
    "# Выводим результат\n",
    "print(f\"f(x) = {k} * x + {b}\")\n",
    "# Получим: f(x) = 461.97489427278356 * x + 2387308.4823964285"
   ]
  },
  {
   "cell_type": "markdown",
   "metadata": {},
   "source": [
    "Почти ничем не отличается, но на всякий случай, посчитаем ошибку"
   ]
  },
  {
   "cell_type": "code",
   "execution_count": 19,
   "metadata": {},
   "outputs": [
    {
     "name": "stdout",
     "output_type": "stream",
     "text": [
      "Ошибка: 1356429462008458.2\n"
     ]
    }
   ],
   "source": [
    "print('Ошибка:', error_fun([k, b]))\n",
    "#Получим: 1356429462008458.2"
   ]
  },
  {
   "cell_type": "markdown",
   "metadata": {},
   "source": [
    "И ошибки тоже совпали, значить код работает верно!"
   ]
  },
  {
   "cell_type": "markdown",
   "metadata": {},
   "source": [
    "Заметим, что ошибка-неточность большая. Но тут играют роль играет несколько моментов:\n",
    "* Тут идёт сумма **квадратов**, и число получается большим\n",
    "* Данных немного, всего 545\n",
    "* Логично, что цена квартиры зависит не только от площади, и тем более не зависит линейно \n",
    "\n",
    "\n",
    "Попробуем исправить этот момент и посчитаем функцию (тоже линейную), но которая зависит не только от площади, но также количества комнат, наличием горячей воды и обогревания, отделкой и тому подобное. "
   ]
  },
  {
   "cell_type": "markdown",
   "metadata": {},
   "source": [
    "Для начала изменим все колонки так, чтобы все данные в них были числовыми."
   ]
  },
  {
   "cell_type": "code",
   "execution_count": 46,
   "metadata": {},
   "outputs": [
    {
     "name": "stdout",
     "output_type": "stream",
     "text": [
      "[[7420    4    2 ...    2    1    2]\n",
      " [8960    4    4 ...    3    0    2]\n",
      " [9960    3    2 ...    2    1    1]\n",
      " ...\n",
      " [3620    2    1 ...    0    0    0]\n",
      " [2910    3    1 ...    0    0    2]\n",
      " [3850    3    1 ...    0    0    0]]\n"
     ]
    }
   ],
   "source": [
    "dt = data.copy()\n",
    "dt['mainroad'] = np.where(data['mainroad'] == 'yes', 1, 0)\n",
    "dt['guestroom'] = np.where(data['guestroom'] == 'yes', 1, 0)\n",
    "dt['basement'] = np.where(data['basement'] == 'yes', 1, 0)\n",
    "dt['hotwaterheating'] = np.where(data['hotwaterheating'] == 'yes', 1, 0)\n",
    "dt['airconditioning'] = np.where(data['airconditioning'] == 'yes', 1, 0)\n",
    "dt['prefarea'] = np.where(data['prefarea'] == 'yes', 1, 0)\n",
    "\n",
    "a = dict(zip(data['furnishingstatus'].unique().tolist(), [2, 1, 0]))\n",
    "dt['furnishingstatus'] =  data['furnishingstatus'].map(a)\n",
    "\n",
    "all = dt.drop('price', axis=1)"
   ]
  },
  {
   "cell_type": "code",
   "execution_count": 61,
   "metadata": {},
   "outputs": [
    {
     "name": "stdout",
     "output_type": "stream",
     "text": [
      "[ 2.43906887e+02  1.19474386e+05  9.88888287e+05  4.50391518e+05\n",
      "  4.23100741e+05  2.98030507e+05  3.57926360e+05  8.72936027e+05\n",
      "  8.53633595e+05  2.79785637e+05  6.47055599e+05  2.13187781e+05\n",
      " -3.24509050e+05]\n"
     ]
    }
   ],
   "source": [
    "# Добавим столбец из 1 и создадим матрицу Х\n",
    "X = np.concatenate((np.array(all).T, [np.ones(len(data['area']))]), axis=0).T\n",
    "\n",
    "# Воспользуемся формулой\n",
    "coef = np.linalg.inv((X.T.dot(X))).dot(X.T).dot(np.array(data['price']))\n",
    "\n",
    "# Выводим результат\n",
    "print(coef)\n",
    "# Получим вот такие коээфиценты: [ 2.43906887e+02  1.19474386e+05  9.88888287e+05  4.50391518e+05\n",
    "#   4.23100741e+05  2.98030507e+05  3.57926360e+05  8.72936027e+05\n",
    "#   8.53633595e+05  2.79785637e+05  6.47055599e+05  2.13187781e+05\n",
    "#  -3.24509050e+05] "
   ]
  },
  {
   "cell_type": "markdown",
   "metadata": {},
   "source": [
    "Получим большую функцию с 13 коэффицентами:\n",
    "\n",
    "$$\n",
    "f(x)= 243.9068872689059x_1 + 119474.38646740332x_2 + 988888.2873006214x_3 \\\\\n",
    "+ 450391.5176025255x_4 + 423100.74115655164x_5 + 298030.50677958474x_6 + 357926.36003238487x_7 \\\\\n",
    "+ 872936.0271410313x_8 + 853633.5948889686x_9 + 279785.63738587266x_10  \\\\\n",
    "+ 647055.5987220603x_11 + 213187.78145772417x_12 - 324509.04986334254\n",
    "$$\n",
    "\n",
    "Но насколько изменилась точность предсказаний...\n",
    "\n"
   ]
  },
  {
   "cell_type": "code",
   "execution_count": 68,
   "metadata": {},
   "outputs": [
    {
     "name": "stdout",
     "output_type": "stream",
     "text": [
      "Ошибка: 608895018186504.6\n"
     ]
    }
   ],
   "source": [
    "#Напишем немного другую функцию подсчёта\n",
    "def squar_sum(pred, y):\n",
    "    su = 0\n",
    "    for i in range(len(y)):\n",
    "        su += (y[i] - pred[i]) * (y[i] - pred[i])\n",
    "    return su\n",
    "\n",
    "\n",
    "pred = X @ np.asarray(coef).T\n",
    "print('Ошибка:', squar_sum(pred, dt.price.tolist()))\n",
    "# #Ошибка: 608895018186504.6"
   ]
  },
  {
   "cell_type": "markdown",
   "metadata": {},
   "source": [
    "Параметр - только площадь: 1356429462008458.2 \\\n",
    "Несколько параметров:      608895018186504.6"
   ]
  },
  {
   "cell_type": "markdown",
   "metadata": {},
   "source": [
    "Стало меньше, что логично, так как теперь функция ориентируется на большее количество параметров!\n",
    "\\\n",
    "\\\n",
    "Таким образом, мы продемонстрировали несложный пример работы МНК "
   ]
  },
  {
   "cell_type": "markdown",
   "metadata": {},
   "source": [
    "Теперь аналогичным образов найдём функцию, но уже с помощью **Метода Наименьших Модулей**. Этот метод очень похож на МНК, за исключенеим того, что вместо квадратов, в минимизации суммы используются модули. "
   ]
  },
  {
   "cell_type": "code",
   "execution_count": 71,
   "metadata": {},
   "outputs": [
    {
     "name": "stdout",
     "output_type": "stream",
     "text": [
      "f(x) = 489.05895115498197x + 2050603.2126229063\n"
     ]
    }
   ],
   "source": [
    "import numpy as np\n",
    "from scipy.optimize import minimize\n",
    " \n",
    "# Задаем набор данных\n",
    "x = np.array(data['area'])\n",
    "y = np.array(data['price'])\n",
    " \n",
    "# Возьмём сумму модулей отклонений, как функцию ошибки \n",
    "def error_fun(coefficients):\n",
    "    return np.sum(np.abs(np.polyval(coefficients, x) - y))\n",
    "\n",
    " \n",
    "# Находим коэффициенты аппроксимирующей функции\n",
    "result = minimize(error_fun, [0, 0])\n",
    " \n",
    "# Получаем значения аппроксимирующей функции\n",
    "approximation = np.polyval(result.x, x)\n",
    "\n",
    "# Выводим получившуюся функцию\n",
    "print(f'f(x) = {result.x[0]}x + {result.x[1]}')\n",
    "# Получим: f(x) = 489.05895115498197x + 2050603.2126229063\n"
   ]
  },
  {
   "cell_type": "markdown",
   "metadata": {},
   "source": [
    "В принципе, отличие функции от предыдущей небольшое. Давайте посмотрим на ошибку"
   ]
  },
  {
   "cell_type": "code",
   "execution_count": 72,
   "metadata": {},
   "outputs": [
    {
     "name": "stdout",
     "output_type": "stream",
     "text": [
      "Ошибка: 631824343.0218697\n"
     ]
    }
   ],
   "source": [
    "print(\"Ошибка:\", error_fun(result.x))\n",
    "# Получаем: 631824343.0218697"
   ]
  },
  {
   "cell_type": "markdown",
   "metadata": {},
   "source": [
    "Встаёт вопрос, какой метод лучше. Для начала давайте сверим ошибки. Единсвтенное, так как МНК предполагает возведение в квадрат, для более понятного сравнения, возьмём корень из получившейся ошибки:\n",
    "$$\n",
    "МНК = \\sqrt{1356460561589906.0} = 36830158.31611244 \\approx 36830158\n",
    "$$\n",
    "Теперь просто сравним с ошибкой метода модулей:\n",
    "$$\n",
    "МНК = 36830158 < 631824343 = МНМ\n",
    "$$\n",
    "Получается, что МНК рабоатет лучше. Но есть ещё одна причина, почему часто берут именно квадрат, а не модуль: любая степеная функция дифференцируема, следовательно, её проще минимизировать."
   ]
  }
 ],
 "metadata": {
  "kernelspec": {
   "display_name": "base",
   "language": "python",
   "name": "python3"
  },
  "language_info": {
   "codemirror_mode": {
    "name": "ipython",
    "version": 3
   },
   "file_extension": ".py",
   "mimetype": "text/x-python",
   "name": "python",
   "nbconvert_exporter": "python",
   "pygments_lexer": "ipython3",
   "version": "3.9.13"
  }
 },
 "nbformat": 4,
 "nbformat_minor": 2
}
